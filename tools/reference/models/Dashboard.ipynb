{
 "cells": [
  {
   "cell_type": "code",
   "execution_count": null,
   "id": "987f886d",
   "metadata": {},
   "outputs": [
    {
     "name": "stdout",
     "output_type": "stream",
     "text": [
      "\n",
      "🔍 Study Name: rlstm_nll_opt_20250722_022330\n",
      "✅ Number of Trials: 26\n",
      "🥇 Best Value (NLL): -0.21875658631324768\n",
      "🏆 Best Params:\n",
      "{'lstm_units': 1280, 'dropout_rate': 0.1, 'learning_rate': 4.8006886596598106e-05, 'seed_offset': 95}\n",
      "\n",
      "📈 Top 5 Trials:\n",
      "\n",
      "Trial 2 (Value = -0.21876):\n",
      "  lstm_units: 1280\n",
      "  dropout_rate: 0.1\n",
      "  learning_rate: 4.8006886596598106e-05\n",
      "  seed_offset: 95\n",
      "\n",
      "Trial 4 (Value = -0.16710):\n",
      "  lstm_units: 1280\n",
      "  dropout_rate: 0.15000000000000002\n",
      "  learning_rate: 3.305621414459925e-05\n",
      "  seed_offset: 40\n",
      "\n",
      "Trial 14 (Value = -0.14946):\n",
      "  lstm_units: 1536\n",
      "  dropout_rate: 0.15000000000000002\n",
      "  learning_rate: 4.2758418659446296e-05\n",
      "  seed_offset: 60\n",
      "\n",
      "Trial 20 (Value = -0.14160):\n",
      "  lstm_units: 896\n",
      "  dropout_rate: 0.15000000000000002\n",
      "  learning_rate: 5.741432095875314e-05\n",
      "  seed_offset: 90\n",
      "\n",
      "Trial 3 (Value = -0.12856):\n",
      "  lstm_units: 768\n",
      "  dropout_rate: 0.25\n",
      "  learning_rate: 4.6894330114820884e-05\n",
      "  seed_offset: 95\n",
      "🥇 Best Value (NLL so far): -0.21875658631324768\n",
      "🏆 Best Params so far:\n",
      "{'lstm_units': 1280, 'dropout_rate': 0.1, 'learning_rate': 4.8006886596598106e-05, 'seed_offset': 95}\n"
     ]
    }
   ],
   "source": [
    "import optuna\n",
    "study_name = \"rlstm_nll_opt_20250722_022330\"\n",
    "storage_url = \"sqlite:///optuna10.db\"\n",
    "study = optuna.load_study(study_name=study_name, storage=storage_url)\n",
    "print(f\"\\n🔍 Study Name: {study.study_name}\")\n",
    "print(f\"✅ Number of Trials: {len(study.trials)}\")\n",
    "print(f\"🥇 Best Value (NLL): {study.best_value}\")\n",
    "print(f\"🏆 Best Params:\\n{study.best_params}\")\n",
    "top5 = sorted([t for t in study.trials if t.value is not None], key=lambda t: t.value)[:5]\n",
    "\n",
    "print(\"\\n📈 Top 5 Trials:\")\n",
    "for i, trial in enumerate(top5):\n",
    "    print(f\"\\nTrial {trial.number} (Value = {trial.value:.5f}):\")\n",
    "    for k, v in trial.params.items():\n",
    "        print(f\"  {k}: {v}\")\n",
    "print(f\"🥇 Best Value (NLL so far): {study.best_value}\")\n",
    "print(f\"🏆 Best Params so far:\\n{study.best_params}\")\n"
   ]
  },
  {
   "cell_type": "code",
   "execution_count": null,
   "id": "43a4d180",
   "metadata": {},
   "outputs": [
    {
     "name": "stdout",
     "output_type": "stream",
     "text": [
      "🔍 لیست تمام مطالعات موجود در optuna.db:\n",
      "\n",
      "📌 Study Name: no-name-ef179484-eae8-4825-8f3f-47283a6b0365 | Trials: 1\n",
      "📌 Study Name: no-name-9bbfeb0d-f804-40e8-b07f-07d423534e14 | Trials: 1\n",
      "📌 Study Name: rlstm_nll_opt_20250719_155815 | Trials: 1\n",
      "📌 Study Name: rlstm_nll_opt_20250719_161747 | Trials: 1\n",
      "📌 Study Name: rlstm_nll_opt_20250719_164409 | Trials: 1\n",
      "📌 Study Name: rlstm_nll_opt_20250719_164613 | Trials: 1\n",
      "📌 Study Name: rlstm_nll_opt_20250719_171508 | Trials: 1\n",
      "📌 Study Name: rlstm_nll_opt_20250719_173043 | Trials: 3\n",
      "📌 Study Name: rlstm_nll_opt_20250719_204257 | Trials: 50\n",
      "📌 Study Name: rlstm_nll_opt_20250721_235538 | Trials: 1\n",
      "📌 Study Name: rlstm_nll_opt_20250722_000016 | Trials: 1\n",
      "📌 Study Name: rlstm_nll_opt_20250722_000835 | Trials: 1\n",
      "📌 Study Name: rlstm_nll_opt_20250722_001940 | Trials: 1\n",
      "📌 Study Name: rlstm_nll_opt_20250722_011121 | Trials: 1\n",
      "📌 Study Name: rlstm_nll_opt_20250722_012715 | Trials: 1\n",
      "📌 Study Name: rlstm_nll_opt_20250722_022330 | Trials: 24\n"
     ]
    }
   ],
   "source": [
    "import optuna\n",
    "\n",
    "# مسیر پایگاه داده\n",
    "storage_url = \"sqlite:///optuna10.db\"\n",
    "\n",
    "# دریافت لیست همه‌ی مطالعات\n",
    "studies = optuna.study.get_all_study_summaries(storage=storage_url)\n",
    "\n",
    "# نمایش نام مطالعه و تعداد trialها\n",
    "print(\"🔍 لیست تمام مطالعات موجود در optuna.db:\\n\")\n",
    "for study in studies:\n",
    "    print(f\"📌 Study Name: {study.study_name} | Trials: {study.n_trials}\")\n"
   ]
  },
  {
   "cell_type": "code",
   "execution_count": null,
   "id": "3ee33572",
   "metadata": {},
   "outputs": [
    {
     "name": "stdout",
     "output_type": "stream",
     "text": [
      "c:\\17.Work\\6.LUT\\week20\\1\\optuna10.db\n"
     ]
    }
   ],
   "source": [
    "import os\n",
    "print(os.path.abspath(\"optuna10.db\"))\n",
    "\n",
    "# optuna-dashboard \"sqlite:///C:\\17.Work\\6.LUT\\week20\\1\\optuna10.db\""
   ]
  }
 ],
 "metadata": {
  "kernelspec": {
   "display_name": "Python (myenv)",
   "language": "python",
   "name": "myenv"
  },
  "language_info": {
   "codemirror_mode": {
    "name": "ipython",
    "version": 3
   },
   "file_extension": ".py",
   "mimetype": "text/x-python",
   "name": "python",
   "nbconvert_exporter": "python",
   "pygments_lexer": "ipython3",
   "version": "3.12.4"
  }
 },
 "nbformat": 4,
 "nbformat_minor": 5
}
