{
 "cells": [
  {
   "cell_type": "markdown",
   "metadata": {},
   "source": [
    "# Transfep Dataset: Analytics and Feature Selection\n",
    "\n",
    "This notebook performs data analysis on the last partition of the dataset, since it is the longest. The first 2 partitions are reserved for validation/testing.\n",
    "\n",
    "## Imports & Constants"
   ]
  },
  {
   "cell_type": "code",
   "execution_count": null,
   "metadata": {},
   "outputs": [],
   "source": [
    "%matplotlib widget\n",
    "\n",
    "%load_ext autoreload\n",
    "%autoreload\n",
    "\n",
    "import os\n",
    "\n",
    "import polars as pl\n",
    "\n",
    "from scipy import fft\n",
    "import numpy as np\n",
    "\n",
    "from sklearn.preprocessing import StandardScaler\n",
    "from sklearn.cross_decomposition import PLSRegression\n",
    "from sklearn.ensemble import GradientBoostingRegressor\n",
    "\n",
    "import joblib\n",
    "from pickle import HIGHEST_PROTOCOL\n",
    "\n",
    "import transfep_utils\n",
    "\n",
    "from matplotlib.axes import Axes\n",
    "from matplotlib import pyplot as plt\n",
    "import seaborn as sns\n",
    "\n",
    "sns.set_theme(\n",
    "  \"paper\", \"whitegrid\",\n",
    "  font=\"roboto\", font_scale=2\n",
    ")\n",
    "\n",
    "# Given the behaviour of full_solar, it makes sense to model log(1+y)\n",
    "# instead of the original signal\n",
    "PRODUCTION_AS_LOG = True\n",
    "\n",
    "DF = transfep_utils.get_dataset_n(2)\n",
    "\n",
    "if PRODUCTION_AS_LOG:\n",
    "  DF = DF.with_columns(\n",
    "    pl.col(\"full_solar\").log1p().alias(\"full_solar\")\n",
    "  )\n",
    "\n",
    "TARGETS = [\"energy\", \"full_solar\"]\n",
    "VARIABLES = [\n",
    "    col for col in DF.columns\n",
    "    if col != \"datetime\" and col not in TARGETS\n",
    "]\n",
    "\n",
    "RELEVANT_FREQS = [\n",
    "    # 1., Hourly not possible due to sampling rate (Nyquist)\n",
    "    1. / 12, # Bi-Daily\n",
    "    1. / 24,  # Daily\n",
    "    1. / (24 * 7),  # Weekly\n",
    "    1. / (24 * 30), # Monthly\n",
    "    1. / (24 * 365) # Yearly\n",
    "]"
   ]
  },
  {
   "cell_type": "markdown",
   "metadata": {},
   "source": [
    "## Visualization (Temporal/Spectral)\n",
    "\n",
    "Separate plots for target variables and independent variables."
   ]
  },
  {
   "cell_type": "code",
   "execution_count": null,
   "metadata": {},
   "outputs": [],
   "source": [
    "def highlight_freq(ax: Axes, freq: float, tol: float = 1e-2, alpha=1e-1):\n",
    "    ax.axvspan(\n",
    "        xmin=freq - tol * freq,\n",
    "        xmax=freq + tol * freq,\n",
    "        alpha=alpha,\n",
    "        color=\"red\"\n",
    "    )"
   ]
  },
  {
   "cell_type": "markdown",
   "metadata": {},
   "source": [
    "\n",
    "### Spectral DataFrame"
   ]
  },
  {
   "cell_type": "code",
   "execution_count": null,
   "metadata": {},
   "outputs": [],
   "source": [
    "df_spectral = pl.DataFrame(\n",
    "    [\n",
    "        pl.Series(\n",
    "            \"frequency\",\n",
    "            fft.rfftfreq(DF.height)\n",
    "        )\n",
    "    ] + [\n",
    "        pl.Series(\n",
    "            col + \"_fft\",\n",
    "            np.abs(fft.rfft(DF.get_column(col).to_numpy())),\n",
    "            dtype=pl.Float64\n",
    "        )\n",
    "        for col in VARIABLES + TARGETS\n",
    "    ]\n",
    ")"
   ]
  },
  {
   "cell_type": "markdown",
   "metadata": {},
   "source": [
    "### Target Visualization\n",
    "\n",
    "- Daily and Weekly periodicities (Bi-daily is just a harmonic of daily)\n",
    "- Dataset is too short to observe yearly periodicity in the spectrum\n",
    "  - This will be further studied in feature analysis\n",
    "- Makes more sense to model the logarithm of full-solar\n",
    "  - Periodicity preserved when transformed"
   ]
  },
  {
   "cell_type": "code",
   "execution_count": null,
   "metadata": {},
   "outputs": [],
   "source": [
    "fig_1, axes_1 = plt.subplots(\n",
    "    2, 1,\n",
    "    sharex=\"col\",\n",
    "    figsize=(12, 6)\n",
    ")\n",
    "fig_1.tight_layout(pad=2)\n",
    "\n",
    "fig_2, axes_2 = plt.subplots(\n",
    "    2, 1,\n",
    "    sharex=\"col\",\n",
    "    figsize=(12, 6)\n",
    ")\n",
    "fig_2.tight_layout(pad=2)\n",
    "\n",
    "axes = [[ax1, ax2] for (ax1, ax2) in zip(axes_1, axes_2)]\n",
    "\n",
    "for idx, var in enumerate(TARGETS):\n",
    "    time_plot = sns.lineplot(\n",
    "        DF,\n",
    "        x=\"datetime\",\n",
    "        y=var,\n",
    "        ax=axes[idx][0]\n",
    "    )\n",
    "    for tick_idx, label in enumerate(time_plot.get_xticklabels()):\n",
    "        if tick_idx % 2 == 0:\n",
    "            label.set_visible(True)\n",
    "        else:\n",
    "            label.set_visible(False)\n",
    "\n",
    "    sns.lineplot(\n",
    "        df_spectral,\n",
    "        x=\"frequency\",\n",
    "        y=var + \"_fft\",\n",
    "        ax=axes[idx][1]\n",
    "    )\n",
    "    axes[idx][1].set_xlabel(\"frequency [$h^{-1}$]\")\n",
    "    axes[idx][1].set_xscale(\"log\")\n",
    "    axes[idx][1].set_yscale(\"log\")\n",
    "\n",
    "    for f in RELEVANT_FREQS:\n",
    "        highlight_freq(axes[idx][1], f, tol=0.05)\n",
    "\n",
    "os.makedirs(\"./figures/\", exist_ok=True)\n",
    "\n",
    "axes[0][0].autoscale(True, axis=\"x\", tight=True)\n",
    "fig_1.savefig(\"./figures/target_temporal.svg\")\n",
    "\n",
    "axes[0][1].autoscale(True, axis=\"x\", tight=True)\n",
    "fig_2.savefig(\"./figures/target_frequency.svg\")"
   ]
  },
  {
   "cell_type": "markdown",
   "metadata": {},
   "source": [
    "### Independent Variable Visualization\n",
    "\n",
    "- Not a lot changed in terms of periodicity\n",
    "  - Slight monthly periodicity for a couple of variables, but this could be background noise or year-specific\n",
    "- The second half of 05.2019 seems to be almost completely dark; this could either be a sensor malfunction or a prolonged storm\n",
    "  - Checking weather records [online](https://www.timeanddate.com/weather/finland/lappeenranta/historic?month=5&year=2019), it seems the second explanation is more likely\n"
   ]
  },
  {
   "cell_type": "code",
   "execution_count": null,
   "metadata": {},
   "outputs": [],
   "source": [
    "fig, axes = plt.subplots(\n",
    "    len(VARIABLES), 2,\n",
    "    sharex=\"col\",\n",
    "    figsize=(12, 6 * len(VARIABLES))\n",
    ")\n",
    "fig.tight_layout(pad=2)\n",
    "\n",
    "for idx, var in enumerate(VARIABLES):\n",
    "    sns.lineplot(\n",
    "        DF,\n",
    "        x=\"datetime\",\n",
    "        y=var,\n",
    "        ax=axes[idx][0]\n",
    "    )\n",
    "\n",
    "    sns.lineplot(\n",
    "        df_spectral,\n",
    "        x=\"frequency\",\n",
    "        y=var + \"_fft\",\n",
    "        ax=axes[idx][1]\n",
    "    )\n",
    "    axes[idx][1].set_xlabel(\"frequency [$h^{-1}$]\")\n",
    "    axes[idx][1].set_xscale(\"log\")\n",
    "    axes[idx][1].set_yscale(\"log\")\n",
    "\n",
    "    for f in RELEVANT_FREQS:\n",
    "        highlight_freq(axes[idx][1], f, tol=0.1)"
   ]
  },
  {
   "cell_type": "markdown",
   "metadata": {},
   "source": [
    "## Feature Engineering"
   ]
  },
  {
   "cell_type": "markdown",
   "metadata": {},
   "source": [
    "### Wind\n",
    "\n",
    "Direction logged in degrees. The discontinuity between 360 and 0 will confuse a model, so it's better to embed it along with wind speed and create 2 new columns: wind_cos and wind_sin (removed; mag+phase preserved)"
   ]
  },
  {
   "cell_type": "code",
   "execution_count": null,
   "metadata": {},
   "outputs": [],
   "source": [
    "# DF = transfep_utils.transform_wind_features(DF)"
   ]
  },
  {
   "cell_type": "markdown",
   "metadata": {},
   "source": [
    "### Datetime\n",
    "\n",
    "As it's tradition, the most relative periodicities are encoded as circular variables. In this case: daily, weekly and yearly relative time values are encoded into pairs of columns using trigonometric functions."
   ]
  },
  {
   "cell_type": "code",
   "execution_count": null,
   "metadata": {},
   "outputs": [],
   "source": [
    "DF = transfep_utils.add_datetime_features(DF)"
   ]
  },
  {
   "cell_type": "markdown",
   "metadata": {},
   "source": [
    "### Rebuild VARIABLES"
   ]
  },
  {
   "cell_type": "code",
   "execution_count": null,
   "metadata": {},
   "outputs": [],
   "source": [
    "VARIABLES = [\n",
    "    col for col in DF.columns\n",
    "    if col != \"datetime\" and col not in TARGETS\n",
    "]"
   ]
  },
  {
   "cell_type": "markdown",
   "metadata": {},
   "source": [
    "## Feature Analysis"
   ]
  },
  {
   "cell_type": "code",
   "execution_count": null,
   "metadata": {},
   "outputs": [],
   "source": [
    "x = StandardScaler().fit_transform(DF.select(VARIABLES).to_numpy())\n",
    "y = StandardScaler().fit_transform(DF.select(TARGETS).to_numpy())"
   ]
  },
  {
   "cell_type": "markdown",
   "metadata": {},
   "source": [
    "### PLS\n",
    "\n",
    "- First Principal Component (most relevant for production) groups up radiation/sunshine variables, temperature, and annual season\n",
    "- Second PC (most relevant for consumption) groups up all seasonalities and visibility\n",
    "- Wind and Pressure are mostly irrelevant\n",
    "- The Sine of DoY is not relevant, meaning that differentiating between Spring and Autumn is irrelevant to the model"
   ]
  },
  {
   "cell_type": "code",
   "execution_count": null,
   "metadata": {},
   "outputs": [],
   "source": [
    "pls_regressor = PLSRegression(\n",
    "    n_components=2,\n",
    "    scale=False,\n",
    "    max_iter=10000,\n",
    "    tol=1e-6\n",
    ").fit(x, y)\n",
    "\n",
    "fig, axes = plt.subplots(\n",
    "    2, 1,\n",
    "    sharey=False,\n",
    "    figsize=(12, len(TARGETS) * 6)\n",
    ")\n",
    "\n",
    "for idx in range(2):\n",
    "    loadings_abs = np.abs(pls_regressor.x_loadings_[:, idx])\n",
    "    axes[idx].barh(\n",
    "        y=[var for _, var in sorted(zip(loadings_abs, VARIABLES))],\n",
    "        width=sorted(loadings_abs),\n",
    "    )\n",
    "    axes[idx].set_title(f\"PC{idx + 1}\")\n",
    "\n",
    "for idx, target in enumerate(TARGETS):\n",
    "    print(\n",
    "        f\"PC loadings for {target}: {\n",
    "            np.abs(\n",
    "                pls_regressor.y_loadings_[\n",
    "                    idx, :]\n",
    "            )}\"\n",
    "    )\n",
    "fig.tight_layout()\n",
    "\n",
    "fig.savefig(\"./figures/pls_loadings.eps\")"
   ]
  },
  {
   "cell_type": "markdown",
   "metadata": {},
   "source": [
    "### Selection from GBR\n",
    "\n",
    "By incorporating non-linearity, we observe the following:\n",
    "\n",
    "- Sunshine is deemed redundant compared to radiation\n",
    "- dow_cos is deemed irrelevant (no difference between Sunday and Thursday)\n",
    "- On the other hand, dow_sin is heavily influential for consumption\n",
    "- hour_sin redundant compared to hour_cos\n",
    "- Consumption can be mostly modelled using time and temperature\n",
    "- The ensemble benefits from accurate season information (yearly), as proven by doy_sin and doy_cos having about the same importance for the second model\n",
    "- Production can be modelled using radiation (global and diffuse) and time information"
   ]
  },
  {
   "cell_type": "code",
   "execution_count": null,
   "metadata": {},
   "outputs": [],
   "source": [
    "fig, axes = plt.subplots(\n",
    "    len(TARGETS), 1,\n",
    "    sharey=False,\n",
    "    figsize=(12, len(TARGETS) * 6)\n",
    ")\n",
    "\n",
    "os.makedirs(\"./models/\", exist_ok=True)\n",
    "\n",
    "for idx, target in enumerate(TARGETS):\n",
    "    if os.path.exists(f\"./models/gbr_{target}.xz\"):\n",
    "        gbr = joblib.load(f\"./models/gbr_{target}.xz\")\n",
    "    else:\n",
    "        gbr = GradientBoostingRegressor(\n",
    "            loss=\"squared_error\",\n",
    "            learning_rate=1e-3,\n",
    "            n_estimators=1000,\n",
    "            max_depth=None,\n",
    "            subsample=1.,\n",
    "            criterion=\"friedman_mse\",\n",
    "            init=PLSRegression(\n",
    "                n_components=2,\n",
    "                scale=False,\n",
    "                max_iter=10000,\n",
    "                tol=1e-6\n",
    "            ).fit(x, y[:, idx]),\n",
    "            validation_fraction=0.2,\n",
    "            n_iter_no_change=10,\n",
    "            tol=1e-6\n",
    "        ).fit(x, y[:, idx])\n",
    "        joblib.dump(\n",
    "            value=gbr,\n",
    "            filename=f\"./models/gbr_{target}.xz\",\n",
    "            protocol=HIGHEST_PROTOCOL,\n",
    "            compress=True\n",
    "        )\n",
    "\n",
    "    axes[idx].barh(\n",
    "        y=[var for _, var in sorted(zip(gbr.feature_importances_, VARIABLES))],\n",
    "        width=sorted(gbr.feature_importances_)\n",
    "    )\n",
    "    axes[idx].set_title(\n",
    "        f\"Feature Importance - {target}\"\n",
    "    )\n",
    "\n",
    "fig.tight_layout()\n",
    "fig.savefig(\"./figures/gbr_loadings.eps\")"
   ]
  }
 ],
 "metadata": {
  "kernelspec": {
   "display_name": "keras_jax",
   "language": "python",
   "name": "python3"
  },
  "language_info": {
   "codemirror_mode": {
    "name": "ipython",
    "version": 3
   },
   "file_extension": ".py",
   "mimetype": "text/x-python",
   "name": "python",
   "nbconvert_exporter": "python",
   "pygments_lexer": "ipython3",
   "version": "3.12.7"
  }
 },
 "nbformat": 4,
 "nbformat_minor": 2
}
